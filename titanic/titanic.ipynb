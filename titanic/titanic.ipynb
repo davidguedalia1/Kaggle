{
 "cells": [
  {
   "cell_type": "code",
   "execution_count": 1,
   "metadata": {},
   "outputs": [],
   "source": [
    "\n",
    "import matplotlib.pyplot as plt\n",
    "import numpy as np\n",
    "import scipy.stats\n",
    "import csv\n",
    "from sklearn import datasets\n",
    "from sklearn.linear_model import LassoCV\n",
    "from sklearn.datasets import make_regression\n",
    "import sklearn\n",
    "from sklearn.linear_model import LogisticRegression\n",
    "from scipy.spatial.distance import pdist,squareform\n",
    "from sklearn.tree import DecisionTreeRegressor,DecisionTreeClassifier\n",
    "from scipy.stats import ortho_group\n",
    "from sklearn import tree\n",
    "import pandas as pd\n",
    "from sklearn.model_selection import train_test_split"
   ]
  },
  {
   "cell_type": "markdown",
   "metadata": {},
   "source": [
    "# Read titanic train and test file"
   ]
  },
  {
   "cell_type": "code",
   "execution_count": 57,
   "metadata": {},
   "outputs": [],
   "source": [
    "df = pd.read_csv('train.csv')\n",
    "#df.PassengerId\n",
    "y_train = np.array(df.Survived)\n",
    "cl = np.array(df.Pclass)\n",
    "Sex = np.array(df.Sex)\n",
    "Sex_b = np.array([1 if Sex[i]=='male' else 0 for i in range(len(Sex))])\n",
    "\n",
    "# read ticket number\n",
    "T = df.Ticket\n",
    "a = []\n",
    "for i in range(len(y_train)):\n",
    "    N = np.array([int(s) for s in T[i].split() if s.isdigit()])\n",
    "    if len(N)>0:    \n",
    "        a.append(N[0])\n",
    "    else:\n",
    "        a.append(0)\n",
    "TN = np.array(a)\n",
    "\n",
    "Age = np.array(df.Age)\n",
    "# complete age array\n",
    "Age[np.isnan(Age)]=np.mean(Age[Age>0])\n",
    "Sib = np.array(df.SibSp)\n",
    "Parch = np.array(df.Parch)\n",
    "Fare = np.array(df.Fare)\n",
    "em = np.array(df.Embarked)\n",
    "em_b = np.array([1 if em[i]=='S' else 0 for i in range(len(Sex))])\n",
    "X_train = np.vstack((cl,Sex_b,TN,Age,Sib,Parch,Fare,em_b)).T\n",
    "\n",
    "df = pd.read_csv('test.csv')\n",
    "test_id = df.PassengerId\n",
    "cl = np.array(df.Pclass)\n",
    "Sex = np.array(df.Sex)\n",
    "Sex_b = np.array([1 if Sex[i]=='male' else 0 for i in range(len(Sex))])\n",
    "T = df.Ticket\n",
    "a = []\n",
    "for i in range(len(Sex)):\n",
    "    N = np.array([int(s) for s in T[i].split() if s.isdigit()])\n",
    "    if len(N)>0:    \n",
    "        a.append(N[0])\n",
    "    else:\n",
    "        a.append(0)\n",
    "TN = np.array(a)\n",
    "\n",
    "Age = np.array(df.Age)\n",
    "Age[np.isnan(Age)]=np.mean(Age[Age>0])\n",
    "Sib = np.array(df.SibSp)\n",
    "Parch = np.array(df.Parch)\n",
    "Fare = np.array(df.Fare)\n",
    "Fare[np.isnan(Fare)]=np.mean(Fare[Fare>0])\n",
    "em = np.array(df.Embarked)\n",
    "em_b = np.array([1 if em[i]=='S' else 0 for i in range(len(Sex))])\n",
    "X_upload = np.vstack((cl,Sex_b,TN,Age,Sib,Parch,Fare,em_b)).T\n",
    "\n"
   ]
  },
  {
   "cell_type": "markdown",
   "metadata": {},
   "source": [
    "# Prepare a decision tree classifier"
   ]
  },
  {
   "cell_type": "code",
   "execution_count": 58,
   "metadata": {},
   "outputs": [],
   "source": [
    "\n",
    "d = 4\n",
    "clf = DecisionTreeClassifier(max_depth  = d)\n",
    "clf = clf.fit(X_train,y_train)\n",
    "\n"
   ]
  },
  {
   "cell_type": "markdown",
   "metadata": {},
   "source": [
    "# prepare an output file"
   ]
  },
  {
   "cell_type": "code",
   "execution_count": 59,
   "metadata": {},
   "outputs": [],
   "source": [
    "y_test_pred = clf.predict(X_upload)\n",
    "test_prediction = pd.DataFrame({'PassengerId': test_id,'Survived':y_test_pred})\n",
    "test_prediction.to_csv('submission_file.csv',index = False)"
   ]
  }
 ],
 "metadata": {
  "interpreter": {
   "hash": "954a165b5e2e1e721a08ff56dda67b5112531629a0d1c201d72c8216f3e90fc2"
  },
  "kernelspec": {
   "display_name": "Python 3.8.8 ('base')",
   "language": "python",
   "name": "python3"
  },
  "language_info": {
   "codemirror_mode": {
    "name": "ipython",
    "version": 3
   },
   "file_extension": ".py",
   "mimetype": "text/x-python",
   "name": "python",
   "nbconvert_exporter": "python",
   "pygments_lexer": "ipython3",
   "version": "3.8.8"
  },
  "metadata": {
   "interpreter": {
    "hash": "3e7473d91958b8c6080785c7c9847b7be242c9be6a02b5785233a0a1988a9b0a"
   }
  }
 },
 "nbformat": 4,
 "nbformat_minor": 4
}
